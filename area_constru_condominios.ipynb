{
 "cells": [
  {
   "cell_type": "code",
   "execution_count": 1,
   "metadata": {},
   "outputs": [],
   "source": [
    "from config import ORIGINAL_DATA_FOLDER, GENERATED_DATA_FOLDER\n",
    "from download_iptu import download_iptu\n",
    "\n",
    "import os\n",
    "import pandas as pd"
   ]
  },
  {
   "cell_type": "code",
   "execution_count": 2,
   "metadata": {},
   "outputs": [
    {
     "name": "stderr",
     "output_type": "stream",
     "text": [
      "/tmp/ipykernel_24366/668755398.py:3: DtypeWarning: Columns (20,21) have mixed types. Specify dtype option on import or set low_memory=False.\n",
      "  df = pd.read_csv(iptu_file, sep=';', encoding='latin-1')\n"
     ]
    }
   ],
   "source": [
    "iptu_file = download_iptu(2024)\n",
    "\n",
    "df = pd.read_csv(iptu_file, sep=';', encoding='latin-1')"
   ]
  },
  {
   "cell_type": "code",
   "execution_count": 3,
   "metadata": {},
   "outputs": [
    {
     "data": {
      "text/html": [
       "<div>\n",
       "<style scoped>\n",
       "    .dataframe tbody tr th:only-of-type {\n",
       "        vertical-align: middle;\n",
       "    }\n",
       "\n",
       "    .dataframe tbody tr th {\n",
       "        vertical-align: top;\n",
       "    }\n",
       "\n",
       "    .dataframe thead th {\n",
       "        text-align: right;\n",
       "    }\n",
       "</style>\n",
       "<table border=\"1\" class=\"dataframe\">\n",
       "  <thead>\n",
       "    <tr style=\"text-align: right;\">\n",
       "      <th></th>\n",
       "      <th>NUMERO DO CONTRIBUINTE</th>\n",
       "      <th>ANO DO EXERCICIO</th>\n",
       "      <th>NUMERO DA NL</th>\n",
       "      <th>DATA DO CADASTRAMENTO</th>\n",
       "      <th>NUMERO DO CONDOMINIO</th>\n",
       "      <th>CODLOG DO IMOVEL</th>\n",
       "      <th>NOME DE LOGRADOURO DO IMOVEL</th>\n",
       "      <th>NUMERO DO IMOVEL</th>\n",
       "      <th>COMPLEMENTO DO IMOVEL</th>\n",
       "      <th>BAIRRO DO IMOVEL</th>\n",
       "      <th>...</th>\n",
       "      <th>ANO DA CONSTRUCAO CORRIGIDO</th>\n",
       "      <th>QUANTIDADE DE PAVIMENTOS</th>\n",
       "      <th>TESTADA PARA CALCULO</th>\n",
       "      <th>TIPO DE USO DO IMOVEL</th>\n",
       "      <th>TIPO DE PADRAO DA CONSTRUCAO</th>\n",
       "      <th>TIPO DE TERRENO</th>\n",
       "      <th>FATOR DE OBSOLESCENCIA</th>\n",
       "      <th>ANO DE INICIO DA VIDA DO CONTRIBUINTE</th>\n",
       "      <th>MES DE INICIO DA VIDA DO CONTRIBUINTE</th>\n",
       "      <th>FASE DO CONTRIBUINTE</th>\n",
       "    </tr>\n",
       "  </thead>\n",
       "  <tbody>\n",
       "    <tr>\n",
       "      <th>0</th>\n",
       "      <td>0010030001-4</td>\n",
       "      <td>2024</td>\n",
       "      <td>1</td>\n",
       "      <td>01/01/24</td>\n",
       "      <td>00-0</td>\n",
       "      <td>03812-1</td>\n",
       "      <td>R S CAETANO</td>\n",
       "      <td>13.0</td>\n",
       "      <td>NaN</td>\n",
       "      <td>SANTA EFIGENIA</td>\n",
       "      <td>...</td>\n",
       "      <td>1924.0</td>\n",
       "      <td>1</td>\n",
       "      <td>13.0</td>\n",
       "      <td>Loja</td>\n",
       "      <td>Comercial horizontal - padrão B</td>\n",
       "      <td>De esquina</td>\n",
       "      <td>0.20</td>\n",
       "      <td>1963</td>\n",
       "      <td>1.0</td>\n",
       "      <td>0.0</td>\n",
       "    </tr>\n",
       "    <tr>\n",
       "      <th>1</th>\n",
       "      <td>0010030002-2</td>\n",
       "      <td>2024</td>\n",
       "      <td>1</td>\n",
       "      <td>01/01/24</td>\n",
       "      <td>00-0</td>\n",
       "      <td>03812-1</td>\n",
       "      <td>R S CAETANO</td>\n",
       "      <td>19.0</td>\n",
       "      <td>NaN</td>\n",
       "      <td>SANTA EFIGENIA</td>\n",
       "      <td>...</td>\n",
       "      <td>1944.0</td>\n",
       "      <td>1</td>\n",
       "      <td>6.0</td>\n",
       "      <td>Loja</td>\n",
       "      <td>Comercial horizontal - padrão B</td>\n",
       "      <td>Normal</td>\n",
       "      <td>0.20</td>\n",
       "      <td>1963</td>\n",
       "      <td>1.0</td>\n",
       "      <td>0.0</td>\n",
       "    </tr>\n",
       "    <tr>\n",
       "      <th>2</th>\n",
       "      <td>0010030003-0</td>\n",
       "      <td>2024</td>\n",
       "      <td>1</td>\n",
       "      <td>01/01/24</td>\n",
       "      <td>00-0</td>\n",
       "      <td>03812-1</td>\n",
       "      <td>R S CAETANO</td>\n",
       "      <td>27.0</td>\n",
       "      <td>NaN</td>\n",
       "      <td>SANTA EFIGENIA</td>\n",
       "      <td>...</td>\n",
       "      <td>1965.0</td>\n",
       "      <td>2</td>\n",
       "      <td>7.85</td>\n",
       "      <td>Loja</td>\n",
       "      <td>Comercial horizontal - padrão B</td>\n",
       "      <td>Normal</td>\n",
       "      <td>0.22</td>\n",
       "      <td>1963</td>\n",
       "      <td>1.0</td>\n",
       "      <td>0.0</td>\n",
       "    </tr>\n",
       "    <tr>\n",
       "      <th>3</th>\n",
       "      <td>0010030004-9</td>\n",
       "      <td>2024</td>\n",
       "      <td>1</td>\n",
       "      <td>01/01/24</td>\n",
       "      <td>00-0</td>\n",
       "      <td>03812-1</td>\n",
       "      <td>R S CAETANO</td>\n",
       "      <td>33.0</td>\n",
       "      <td>NaN</td>\n",
       "      <td>NaN</td>\n",
       "      <td>...</td>\n",
       "      <td>1944.0</td>\n",
       "      <td>1</td>\n",
       "      <td>6.05</td>\n",
       "      <td>Loja</td>\n",
       "      <td>Comercial horizontal - padrão B</td>\n",
       "      <td>Normal</td>\n",
       "      <td>0.20</td>\n",
       "      <td>1963</td>\n",
       "      <td>1.0</td>\n",
       "      <td>0.0</td>\n",
       "    </tr>\n",
       "    <tr>\n",
       "      <th>4</th>\n",
       "      <td>0010030005-7</td>\n",
       "      <td>2024</td>\n",
       "      <td>1</td>\n",
       "      <td>01/01/24</td>\n",
       "      <td>00-0</td>\n",
       "      <td>03812-1</td>\n",
       "      <td>R S CAETANO</td>\n",
       "      <td>39.0</td>\n",
       "      <td>NaN</td>\n",
       "      <td>NaN</td>\n",
       "      <td>...</td>\n",
       "      <td>2004.0</td>\n",
       "      <td>2</td>\n",
       "      <td>6.7</td>\n",
       "      <td>Loja</td>\n",
       "      <td>Comercial horizontal - padrão B</td>\n",
       "      <td>Normal</td>\n",
       "      <td>0.82</td>\n",
       "      <td>1963</td>\n",
       "      <td>1.0</td>\n",
       "      <td>0.0</td>\n",
       "    </tr>\n",
       "  </tbody>\n",
       "</table>\n",
       "<p>5 rows × 29 columns</p>\n",
       "</div>"
      ],
      "text/plain": [
       "  NUMERO DO CONTRIBUINTE  ANO DO EXERCICIO  NUMERO DA NL  \\\n",
       "0           0010030001-4              2024             1   \n",
       "1           0010030002-2              2024             1   \n",
       "2           0010030003-0              2024             1   \n",
       "3           0010030004-9              2024             1   \n",
       "4           0010030005-7              2024             1   \n",
       "\n",
       "  DATA DO CADASTRAMENTO NUMERO DO CONDOMINIO CODLOG DO IMOVEL  \\\n",
       "0              01/01/24                 00-0          03812-1   \n",
       "1              01/01/24                 00-0          03812-1   \n",
       "2              01/01/24                 00-0          03812-1   \n",
       "3              01/01/24                 00-0          03812-1   \n",
       "4              01/01/24                 00-0          03812-1   \n",
       "\n",
       "  NOME DE LOGRADOURO DO IMOVEL  NUMERO DO IMOVEL COMPLEMENTO DO IMOVEL  \\\n",
       "0                  R S CAETANO              13.0                   NaN   \n",
       "1                  R S CAETANO              19.0                   NaN   \n",
       "2                  R S CAETANO              27.0                   NaN   \n",
       "3                  R S CAETANO              33.0                   NaN   \n",
       "4                  R S CAETANO              39.0                   NaN   \n",
       "\n",
       "  BAIRRO DO IMOVEL  ... ANO DA CONSTRUCAO CORRIGIDO QUANTIDADE DE PAVIMENTOS  \\\n",
       "0   SANTA EFIGENIA  ...                      1924.0                        1   \n",
       "1   SANTA EFIGENIA  ...                      1944.0                        1   \n",
       "2   SANTA EFIGENIA  ...                      1965.0                        2   \n",
       "3              NaN  ...                      1944.0                        1   \n",
       "4              NaN  ...                      2004.0                        2   \n",
       "\n",
       "   TESTADA PARA CALCULO  TIPO DE USO DO IMOVEL  \\\n",
       "0                  13.0                   Loja   \n",
       "1                   6.0                   Loja   \n",
       "2                  7.85                   Loja   \n",
       "3                  6.05                   Loja   \n",
       "4                   6.7                   Loja   \n",
       "\n",
       "      TIPO DE PADRAO DA CONSTRUCAO  TIPO DE TERRENO  FATOR DE OBSOLESCENCIA  \\\n",
       "0  Comercial horizontal - padrão B       De esquina                    0.20   \n",
       "1  Comercial horizontal - padrão B           Normal                    0.20   \n",
       "2  Comercial horizontal - padrão B           Normal                    0.22   \n",
       "3  Comercial horizontal - padrão B           Normal                    0.20   \n",
       "4  Comercial horizontal - padrão B           Normal                    0.82   \n",
       "\n",
       "   ANO DE INICIO DA VIDA DO CONTRIBUINTE  \\\n",
       "0                                   1963   \n",
       "1                                   1963   \n",
       "2                                   1963   \n",
       "3                                   1963   \n",
       "4                                   1963   \n",
       "\n",
       "   MES DE INICIO DA VIDA DO CONTRIBUINTE  FASE DO CONTRIBUINTE  \n",
       "0                                    1.0                   0.0  \n",
       "1                                    1.0                   0.0  \n",
       "2                                    1.0                   0.0  \n",
       "3                                    1.0                   0.0  \n",
       "4                                    1.0                   0.0  \n",
       "\n",
       "[5 rows x 29 columns]"
      ]
     },
     "execution_count": 3,
     "metadata": {},
     "output_type": "execute_result"
    }
   ],
   "source": [
    "df.head()"
   ]
  },
  {
   "cell_type": "code",
   "execution_count": 4,
   "metadata": {},
   "outputs": [
    {
     "data": {
      "text/plain": [
       "NUMERO DO CONTRIBUINTE                    object\n",
       "ANO DO EXERCICIO                           int64\n",
       "NUMERO DA NL                               int64\n",
       "DATA DO CADASTRAMENTO                     object\n",
       "NUMERO DO CONDOMINIO                      object\n",
       "CODLOG DO IMOVEL                          object\n",
       "NOME DE LOGRADOURO DO IMOVEL              object\n",
       "NUMERO DO IMOVEL                         float64\n",
       "COMPLEMENTO DO IMOVEL                     object\n",
       "BAIRRO DO IMOVEL                          object\n",
       "REFERENCIA DO IMOVEL                      object\n",
       "CEP DO IMOVEL                             object\n",
       "QUANTIDADE DE ESQUINAS/FRENTES           float64\n",
       "FRACAO IDEAL                             float64\n",
       "AREA DO TERRENO                            int64\n",
       "AREA CONSTRUIDA                          float64\n",
       "AREA OCUPADA                             float64\n",
       "VALOR DO M2 DO TERRENO                   float64\n",
       "VALOR DO M2 DE CONSTRUCAO                float64\n",
       "ANO DA CONSTRUCAO CORRIGIDO              float64\n",
       "QUANTIDADE DE PAVIMENTOS                  object\n",
       "TESTADA PARA CALCULO                      object\n",
       "TIPO DE USO DO IMOVEL                     object\n",
       "TIPO DE PADRAO DA CONSTRUCAO              object\n",
       "TIPO DE TERRENO                           object\n",
       "FATOR DE OBSOLESCENCIA                   float64\n",
       "ANO DE INICIO DA VIDA DO CONTRIBUINTE      int64\n",
       "MES DE INICIO DA VIDA DO CONTRIBUINTE    float64\n",
       "FASE DO CONTRIBUINTE                     float64\n",
       "dtype: object"
      ]
     },
     "execution_count": 4,
     "metadata": {},
     "output_type": "execute_result"
    }
   ],
   "source": [
    "df.dtypes"
   ]
  },
  {
   "cell_type": "code",
   "execution_count": 5,
   "metadata": {},
   "outputs": [
    {
     "data": {
      "text/plain": [
       "array(['00-0', '02-7', '03-5', '01-9', '04-3', '05-1', '07-8', '08-6',\n",
       "       '09-4', '06-1', '10-8', '11-6', '12-4', '13-2', '14-0', '15-9',\n",
       "       '16-7', '17-5', '18-3', '19-1', '20-5', '21-3', '22-1', '23-1',\n",
       "       '24-8', '27-2', '28-0', '29-9', '25-6', '26-4', '30-2', '31-0',\n",
       "       '33-7', '32-9', '34-5', '35-3', '36-1', '37-1', '38-8', '39-6',\n",
       "       '40-1', '43-4'], dtype=object)"
      ]
     },
     "execution_count": 5,
     "metadata": {},
     "output_type": "execute_result"
    }
   ],
   "source": [
    "df['NUMERO DO CONDOMINIO'].unique()"
   ]
  },
  {
   "cell_type": "code",
   "execution_count": 6,
   "metadata": {},
   "outputs": [
    {
     "data": {
      "text/plain": [
       "np.float64(0.4431934698082756)"
      ]
     },
     "execution_count": 6,
     "metadata": {},
     "output_type": "execute_result"
    }
   ],
   "source": [
    "(df['FRACAO IDEAL']==1).mean()"
   ]
  },
  {
   "cell_type": "code",
   "execution_count": 7,
   "metadata": {},
   "outputs": [
    {
     "data": {
      "text/plain": [
       "np.float64(2.0668569159246896e-05)"
      ]
     },
     "execution_count": 7,
     "metadata": {},
     "output_type": "execute_result"
    }
   ],
   "source": [
    "(df[df['FRACAO IDEAL']!=1]['NUMERO DO CONDOMINIO']=='00-0').mean()"
   ]
  },
  {
   "cell_type": "code",
   "execution_count": 8,
   "metadata": {},
   "outputs": [
    {
     "data": {
      "text/plain": [
       "np.float64(0.9999789791145137)"
      ]
     },
     "execution_count": 8,
     "metadata": {},
     "output_type": "execute_result"
    }
   ],
   "source": [
    "(df[df['FRACAO IDEAL']==1]['NUMERO DO CONDOMINIO']=='00-0').mean()"
   ]
  },
  {
   "cell_type": "code",
   "execution_count": 9,
   "metadata": {},
   "outputs": [],
   "source": [
    "condominios =df[df['NUMERO DO CONDOMINIO']!='00-0'].reset_index()\n",
    "\n",
    "del df"
   ]
  },
  {
   "cell_type": "code",
   "execution_count": 10,
   "metadata": {},
   "outputs": [
    {
     "data": {
      "text/plain": [
       "index                                      int64\n",
       "NUMERO DO CONTRIBUINTE                    object\n",
       "ANO DO EXERCICIO                           int64\n",
       "NUMERO DA NL                               int64\n",
       "DATA DO CADASTRAMENTO                     object\n",
       "NUMERO DO CONDOMINIO                      object\n",
       "CODLOG DO IMOVEL                          object\n",
       "NOME DE LOGRADOURO DO IMOVEL              object\n",
       "NUMERO DO IMOVEL                         float64\n",
       "COMPLEMENTO DO IMOVEL                     object\n",
       "BAIRRO DO IMOVEL                          object\n",
       "REFERENCIA DO IMOVEL                      object\n",
       "CEP DO IMOVEL                             object\n",
       "QUANTIDADE DE ESQUINAS/FRENTES           float64\n",
       "FRACAO IDEAL                             float64\n",
       "AREA DO TERRENO                            int64\n",
       "AREA CONSTRUIDA                          float64\n",
       "AREA OCUPADA                             float64\n",
       "VALOR DO M2 DO TERRENO                   float64\n",
       "VALOR DO M2 DE CONSTRUCAO                float64\n",
       "ANO DA CONSTRUCAO CORRIGIDO              float64\n",
       "QUANTIDADE DE PAVIMENTOS                  object\n",
       "TESTADA PARA CALCULO                      object\n",
       "TIPO DE USO DO IMOVEL                     object\n",
       "TIPO DE PADRAO DA CONSTRUCAO              object\n",
       "TIPO DE TERRENO                           object\n",
       "FATOR DE OBSOLESCENCIA                   float64\n",
       "ANO DE INICIO DA VIDA DO CONTRIBUINTE      int64\n",
       "MES DE INICIO DA VIDA DO CONTRIBUINTE    float64\n",
       "FASE DO CONTRIBUINTE                     float64\n",
       "dtype: object"
      ]
     },
     "execution_count": 10,
     "metadata": {},
     "output_type": "execute_result"
    }
   ],
   "source": [
    "condominios.dtypes"
   ]
  },
  {
   "cell_type": "code",
   "execution_count": 11,
   "metadata": {},
   "outputs": [
    {
     "data": {
      "text/plain": [
       "np.float64(1.6731764713987706e-05)"
      ]
     },
     "execution_count": 11,
     "metadata": {},
     "output_type": "execute_result"
    }
   ],
   "source": [
    "(condominios['FRACAO IDEAL']==1).mean()"
   ]
  },
  {
   "cell_type": "code",
   "execution_count": 12,
   "metadata": {},
   "outputs": [
    {
     "data": {
      "text/plain": [
       "np.float64(0.999983268235286)"
      ]
     },
     "execution_count": 12,
     "metadata": {},
     "output_type": "execute_result"
    }
   ],
   "source": [
    "(condominios['FRACAO IDEAL']!=1).mean()"
   ]
  },
  {
   "cell_type": "code",
   "execution_count": 13,
   "metadata": {},
   "outputs": [
    {
     "data": {
      "text/plain": [
       "array([12])"
      ]
     },
     "execution_count": 13,
     "metadata": {},
     "output_type": "execute_result"
    }
   ],
   "source": [
    "condominios['NUMERO DO CONTRIBUINTE'].str.len().unique()"
   ]
  },
  {
   "cell_type": "code",
   "execution_count": 14,
   "metadata": {},
   "outputs": [
    {
     "data": {
      "text/plain": [
       "0    0010030079-0\n",
       "1    0010030080-4\n",
       "2    0010030081-2\n",
       "Name: NUMERO DO CONTRIBUINTE, dtype: object"
      ]
     },
     "execution_count": 14,
     "metadata": {},
     "output_type": "execute_result"
    }
   ],
   "source": [
    "condominios['NUMERO DO CONTRIBUINTE'][:3]"
   ]
  },
  {
   "cell_type": "code",
   "execution_count": 15,
   "metadata": {},
   "outputs": [],
   "source": [
    "condominios['setor']=condominios['NUMERO DO CONTRIBUINTE'].str.slice(0,3)\n",
    "condominios['quadra']=condominios['NUMERO DO CONTRIBUINTE'].str.slice(3,6)"
   ]
  },
  {
   "cell_type": "code",
   "execution_count": 16,
   "metadata": {},
   "outputs": [
    {
     "data": {
      "text/plain": [
       "0    001\n",
       "1    001\n",
       "2    001\n",
       "Name: setor, dtype: object"
      ]
     },
     "execution_count": 16,
     "metadata": {},
     "output_type": "execute_result"
    }
   ],
   "source": [
    "condominios['setor'][:3]"
   ]
  },
  {
   "cell_type": "code",
   "execution_count": 17,
   "metadata": {},
   "outputs": [
    {
     "data": {
      "text/plain": [
       "0    003\n",
       "1    003\n",
       "2    003\n",
       "Name: quadra, dtype: object"
      ]
     },
     "execution_count": 17,
     "metadata": {},
     "output_type": "execute_result"
    }
   ],
   "source": [
    "condominios['quadra'][:3]"
   ]
  },
  {
   "cell_type": "code",
   "execution_count": 18,
   "metadata": {},
   "outputs": [
    {
     "data": {
      "text/plain": [
       "np.False_"
      ]
     },
     "execution_count": 18,
     "metadata": {},
     "output_type": "execute_result"
    }
   ],
   "source": [
    "condominios['NUMERO DO CONDOMINIO'].isnull().any()"
   ]
  },
  {
   "cell_type": "code",
   "execution_count": 19,
   "metadata": {},
   "outputs": [
    {
     "data": {
      "text/plain": [
       "np.False_"
      ]
     },
     "execution_count": 19,
     "metadata": {},
     "output_type": "execute_result"
    }
   ],
   "source": [
    "condominios['NUMERO DO CONTRIBUINTE'].isnull().any()"
   ]
  },
  {
   "cell_type": "code",
   "execution_count": 20,
   "metadata": {},
   "outputs": [
    {
     "data": {
      "text/plain": [
       "np.False_"
      ]
     },
     "execution_count": 20,
     "metadata": {},
     "output_type": "execute_result"
    }
   ],
   "source": [
    "condominios['AREA CONSTRUIDA'].isnull().any()"
   ]
  },
  {
   "cell_type": "code",
   "execution_count": 21,
   "metadata": {},
   "outputs": [
    {
     "data": {
      "text/plain": [
       "dtype('float64')"
      ]
     },
     "execution_count": 21,
     "metadata": {},
     "output_type": "execute_result"
    }
   ],
   "source": [
    "condominios['AREA CONSTRUIDA'].dtype"
   ]
  },
  {
   "cell_type": "code",
   "execution_count": 22,
   "metadata": {},
   "outputs": [],
   "source": [
    "area_constru_condominios = condominios.groupby(['setor', 'quadra', 'NUMERO DO CONDOMINIO'])[['AREA CONSTRUIDA']].sum().reset_index()"
   ]
  },
  {
   "cell_type": "code",
   "execution_count": 23,
   "metadata": {},
   "outputs": [
    {
     "data": {
      "text/html": [
       "<div>\n",
       "<style scoped>\n",
       "    .dataframe tbody tr th:only-of-type {\n",
       "        vertical-align: middle;\n",
       "    }\n",
       "\n",
       "    .dataframe tbody tr th {\n",
       "        vertical-align: top;\n",
       "    }\n",
       "\n",
       "    .dataframe thead th {\n",
       "        text-align: right;\n",
       "    }\n",
       "</style>\n",
       "<table border=\"1\" class=\"dataframe\">\n",
       "  <thead>\n",
       "    <tr style=\"text-align: right;\">\n",
       "      <th></th>\n",
       "      <th>setor</th>\n",
       "      <th>quadra</th>\n",
       "      <th>NUMERO DO CONDOMINIO</th>\n",
       "      <th>AREA CONSTRUIDA</th>\n",
       "    </tr>\n",
       "  </thead>\n",
       "  <tbody>\n",
       "    <tr>\n",
       "      <th>0</th>\n",
       "      <td>001</td>\n",
       "      <td>003</td>\n",
       "      <td>01-9</td>\n",
       "      <td>1915.0</td>\n",
       "    </tr>\n",
       "    <tr>\n",
       "      <th>1</th>\n",
       "      <td>001</td>\n",
       "      <td>003</td>\n",
       "      <td>02-7</td>\n",
       "      <td>312.0</td>\n",
       "    </tr>\n",
       "    <tr>\n",
       "      <th>2</th>\n",
       "      <td>001</td>\n",
       "      <td>003</td>\n",
       "      <td>03-5</td>\n",
       "      <td>1044.0</td>\n",
       "    </tr>\n",
       "    <tr>\n",
       "      <th>3</th>\n",
       "      <td>001</td>\n",
       "      <td>003</td>\n",
       "      <td>04-3</td>\n",
       "      <td>1393.0</td>\n",
       "    </tr>\n",
       "    <tr>\n",
       "      <th>4</th>\n",
       "      <td>001</td>\n",
       "      <td>004</td>\n",
       "      <td>01-9</td>\n",
       "      <td>1458.0</td>\n",
       "    </tr>\n",
       "    <tr>\n",
       "      <th>...</th>\n",
       "      <td>...</td>\n",
       "      <td>...</td>\n",
       "      <td>...</td>\n",
       "      <td>...</td>\n",
       "    </tr>\n",
       "    <tr>\n",
       "      <th>36543</th>\n",
       "      <td>310</td>\n",
       "      <td>100</td>\n",
       "      <td>01-9</td>\n",
       "      <td>16056.0</td>\n",
       "    </tr>\n",
       "    <tr>\n",
       "      <th>36544</th>\n",
       "      <td>310</td>\n",
       "      <td>109</td>\n",
       "      <td>01-9</td>\n",
       "      <td>3968.0</td>\n",
       "    </tr>\n",
       "    <tr>\n",
       "      <th>36545</th>\n",
       "      <td>310</td>\n",
       "      <td>117</td>\n",
       "      <td>01-9</td>\n",
       "      <td>5582.0</td>\n",
       "    </tr>\n",
       "    <tr>\n",
       "      <th>36546</th>\n",
       "      <td>310</td>\n",
       "      <td>117</td>\n",
       "      <td>02-7</td>\n",
       "      <td>6697.0</td>\n",
       "    </tr>\n",
       "    <tr>\n",
       "      <th>36547</th>\n",
       "      <td>310</td>\n",
       "      <td>118</td>\n",
       "      <td>01-9</td>\n",
       "      <td>25215.0</td>\n",
       "    </tr>\n",
       "  </tbody>\n",
       "</table>\n",
       "<p>36548 rows × 4 columns</p>\n",
       "</div>"
      ],
      "text/plain": [
       "      setor quadra NUMERO DO CONDOMINIO  AREA CONSTRUIDA\n",
       "0       001    003                 01-9           1915.0\n",
       "1       001    003                 02-7            312.0\n",
       "2       001    003                 03-5           1044.0\n",
       "3       001    003                 04-3           1393.0\n",
       "4       001    004                 01-9           1458.0\n",
       "...     ...    ...                  ...              ...\n",
       "36543   310    100                 01-9          16056.0\n",
       "36544   310    109                 01-9           3968.0\n",
       "36545   310    117                 01-9           5582.0\n",
       "36546   310    117                 02-7           6697.0\n",
       "36547   310    118                 01-9          25215.0\n",
       "\n",
       "[36548 rows x 4 columns]"
      ]
     },
     "execution_count": 23,
     "metadata": {},
     "output_type": "execute_result"
    }
   ],
   "source": [
    "area_constru_condominios"
   ]
  },
  {
   "cell_type": "code",
   "execution_count": 24,
   "metadata": {},
   "outputs": [],
   "source": [
    "area_constru_condominios['cod_condominio']=area_constru_condominios['NUMERO DO CONDOMINIO'].str.slice(0, 2)"
   ]
  },
  {
   "cell_type": "code",
   "execution_count": 25,
   "metadata": {},
   "outputs": [],
   "source": [
    "area_constru_condominios.drop('NUMERO DO CONDOMINIO', axis=1, inplace=True)\n",
    "area_constru_condominios.rename({'AREA CONSTRUIDA' :  'area_construida'}, axis=1, inplace=True)"
   ]
  },
  {
   "cell_type": "code",
   "execution_count": 27,
   "metadata": {},
   "outputs": [
    {
     "data": {
      "text/html": [
       "<div>\n",
       "<style scoped>\n",
       "    .dataframe tbody tr th:only-of-type {\n",
       "        vertical-align: middle;\n",
       "    }\n",
       "\n",
       "    .dataframe tbody tr th {\n",
       "        vertical-align: top;\n",
       "    }\n",
       "\n",
       "    .dataframe thead th {\n",
       "        text-align: right;\n",
       "    }\n",
       "</style>\n",
       "<table border=\"1\" class=\"dataframe\">\n",
       "  <thead>\n",
       "    <tr style=\"text-align: right;\">\n",
       "      <th></th>\n",
       "      <th>setor</th>\n",
       "      <th>quadra</th>\n",
       "      <th>area_construida</th>\n",
       "      <th>cod_condominio</th>\n",
       "    </tr>\n",
       "  </thead>\n",
       "  <tbody>\n",
       "    <tr>\n",
       "      <th>0</th>\n",
       "      <td>001</td>\n",
       "      <td>003</td>\n",
       "      <td>1915.0</td>\n",
       "      <td>01</td>\n",
       "    </tr>\n",
       "    <tr>\n",
       "      <th>1</th>\n",
       "      <td>001</td>\n",
       "      <td>003</td>\n",
       "      <td>312.0</td>\n",
       "      <td>02</td>\n",
       "    </tr>\n",
       "    <tr>\n",
       "      <th>2</th>\n",
       "      <td>001</td>\n",
       "      <td>003</td>\n",
       "      <td>1044.0</td>\n",
       "      <td>03</td>\n",
       "    </tr>\n",
       "    <tr>\n",
       "      <th>3</th>\n",
       "      <td>001</td>\n",
       "      <td>003</td>\n",
       "      <td>1393.0</td>\n",
       "      <td>04</td>\n",
       "    </tr>\n",
       "    <tr>\n",
       "      <th>4</th>\n",
       "      <td>001</td>\n",
       "      <td>004</td>\n",
       "      <td>1458.0</td>\n",
       "      <td>01</td>\n",
       "    </tr>\n",
       "  </tbody>\n",
       "</table>\n",
       "</div>"
      ],
      "text/plain": [
       "  setor quadra  area_construida cod_condominio\n",
       "0   001    003           1915.0             01\n",
       "1   001    003            312.0             02\n",
       "2   001    003           1044.0             03\n",
       "3   001    003           1393.0             04\n",
       "4   001    004           1458.0             01"
      ]
     },
     "execution_count": 27,
     "metadata": {},
     "output_type": "execute_result"
    }
   ],
   "source": [
    "area_constru_condominios.head()"
   ]
  },
  {
   "cell_type": "code",
   "execution_count": 29,
   "metadata": {},
   "outputs": [],
   "source": [
    "area_constru_condominios.to_csv(os.path.join(GENERATED_DATA_FOLDER, 'area_construida_condominios.csv'))"
   ]
  },
  {
   "cell_type": "code",
   "execution_count": null,
   "metadata": {},
   "outputs": [],
   "source": []
  }
 ],
 "metadata": {
  "kernelspec": {
   "display_name": "venv",
   "language": "python",
   "name": "python3"
  },
  "language_info": {
   "codemirror_mode": {
    "name": "ipython",
    "version": 3
   },
   "file_extension": ".py",
   "mimetype": "text/x-python",
   "name": "python",
   "nbconvert_exporter": "python",
   "pygments_lexer": "ipython3",
   "version": "3.12.3"
  }
 },
 "nbformat": 4,
 "nbformat_minor": 2
}
